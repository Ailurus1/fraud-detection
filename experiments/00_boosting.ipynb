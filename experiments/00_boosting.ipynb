{
  "cells": [
    {
      "cell_type": "code",
      "source": [
        "!pip install catboost seaborn kagglehub imbalanced-learn scikit-learn"
      ],
      "metadata": {
        "colab": {
          "base_uri": "https://localhost:8080/"
        },
        "id": "_PqiR1cnXZl8",
        "outputId": "41f3dd4e-622c-43dd-8775-77a816bd0bd1"
      },
      "execution_count": 3,
      "outputs": [
        {
          "output_type": "stream",
          "name": "stdout",
          "text": [
            "Collecting catboost\n",
            "  Downloading catboost-1.2.7-cp311-cp311-manylinux2014_x86_64.whl.metadata (1.2 kB)\n",
            "Requirement already satisfied: seaborn in /usr/local/lib/python3.11/dist-packages (0.13.2)\n",
            "Requirement already satisfied: kagglehub in /usr/local/lib/python3.11/dist-packages (0.3.7)\n",
            "Requirement already satisfied: imbalanced-learn in /usr/local/lib/python3.11/dist-packages (0.13.0)\n",
            "Requirement already satisfied: scikit-learn in /usr/local/lib/python3.11/dist-packages (1.6.1)\n",
            "Requirement already satisfied: graphviz in /usr/local/lib/python3.11/dist-packages (from catboost) (0.20.3)\n",
            "Requirement already satisfied: matplotlib in /usr/local/lib/python3.11/dist-packages (from catboost) (3.10.0)\n",
            "Requirement already satisfied: numpy<2.0,>=1.16.0 in /usr/local/lib/python3.11/dist-packages (from catboost) (1.26.4)\n",
            "Requirement already satisfied: pandas>=0.24 in /usr/local/lib/python3.11/dist-packages (from catboost) (2.2.2)\n",
            "Requirement already satisfied: scipy in /usr/local/lib/python3.11/dist-packages (from catboost) (1.13.1)\n",
            "Requirement already satisfied: plotly in /usr/local/lib/python3.11/dist-packages (from catboost) (5.24.1)\n",
            "Requirement already satisfied: six in /usr/local/lib/python3.11/dist-packages (from catboost) (1.17.0)\n",
            "Requirement already satisfied: model-signing in /usr/local/lib/python3.11/dist-packages (from kagglehub) (0.2.0)\n",
            "Requirement already satisfied: packaging in /usr/local/lib/python3.11/dist-packages (from kagglehub) (24.2)\n",
            "Requirement already satisfied: requests in /usr/local/lib/python3.11/dist-packages (from kagglehub) (2.32.3)\n",
            "Requirement already satisfied: tqdm in /usr/local/lib/python3.11/dist-packages (from kagglehub) (4.67.1)\n",
            "Requirement already satisfied: sklearn-compat<1,>=0.1 in /usr/local/lib/python3.11/dist-packages (from imbalanced-learn) (0.1.3)\n",
            "Requirement already satisfied: joblib<2,>=1.1.1 in /usr/local/lib/python3.11/dist-packages (from imbalanced-learn) (1.4.2)\n",
            "Requirement already satisfied: threadpoolctl<4,>=2.0.0 in /usr/local/lib/python3.11/dist-packages (from imbalanced-learn) (3.5.0)\n",
            "Requirement already satisfied: contourpy>=1.0.1 in /usr/local/lib/python3.11/dist-packages (from matplotlib->catboost) (1.3.1)\n",
            "Requirement already satisfied: cycler>=0.10 in /usr/local/lib/python3.11/dist-packages (from matplotlib->catboost) (0.12.1)\n",
            "Requirement already satisfied: fonttools>=4.22.0 in /usr/local/lib/python3.11/dist-packages (from matplotlib->catboost) (4.56.0)\n",
            "Requirement already satisfied: kiwisolver>=1.3.1 in /usr/local/lib/python3.11/dist-packages (from matplotlib->catboost) (1.4.8)\n",
            "Requirement already satisfied: pillow>=8 in /usr/local/lib/python3.11/dist-packages (from matplotlib->catboost) (11.1.0)\n",
            "Requirement already satisfied: pyparsing>=2.3.1 in /usr/local/lib/python3.11/dist-packages (from matplotlib->catboost) (3.2.1)\n",
            "Requirement already satisfied: python-dateutil>=2.7 in /usr/local/lib/python3.11/dist-packages (from matplotlib->catboost) (2.8.2)\n",
            "Requirement already satisfied: pytz>=2020.1 in /usr/local/lib/python3.11/dist-packages (from pandas>=0.24->catboost) (2025.1)\n",
            "Requirement already satisfied: tzdata>=2022.7 in /usr/local/lib/python3.11/dist-packages (from pandas>=0.24->catboost) (2025.1)\n",
            "Requirement already satisfied: cryptography in /usr/local/lib/python3.11/dist-packages (from model-signing->kagglehub) (43.0.3)\n",
            "Requirement already satisfied: in-toto-attestation in /usr/local/lib/python3.11/dist-packages (from model-signing->kagglehub) (0.9.3)\n",
            "Requirement already satisfied: sigstore in /usr/local/lib/python3.11/dist-packages (from model-signing->kagglehub) (3.6.1)\n",
            "Requirement already satisfied: typing-extensions in /usr/local/lib/python3.11/dist-packages (from model-signing->kagglehub) (4.12.2)\n",
            "Requirement already satisfied: tenacity>=6.2.0 in /usr/local/lib/python3.11/dist-packages (from plotly->catboost) (9.0.0)\n",
            "Requirement already satisfied: charset-normalizer<4,>=2 in /usr/local/lib/python3.11/dist-packages (from requests->kagglehub) (3.4.1)\n",
            "Requirement already satisfied: idna<4,>=2.5 in /usr/local/lib/python3.11/dist-packages (from requests->kagglehub) (3.10)\n",
            "Requirement already satisfied: urllib3<3,>=1.21.1 in /usr/local/lib/python3.11/dist-packages (from requests->kagglehub) (2.3.0)\n",
            "Requirement already satisfied: certifi>=2017.4.17 in /usr/local/lib/python3.11/dist-packages (from requests->kagglehub) (2025.1.31)\n",
            "Requirement already satisfied: cffi>=1.12 in /usr/local/lib/python3.11/dist-packages (from cryptography->model-signing->kagglehub) (1.17.1)\n",
            "Requirement already satisfied: protobuf in /usr/local/lib/python3.11/dist-packages (from in-toto-attestation->model-signing->kagglehub) (4.25.6)\n",
            "Requirement already satisfied: id>=1.1.0 in /usr/local/lib/python3.11/dist-packages (from sigstore->model-signing->kagglehub) (1.5.0)\n",
            "Requirement already satisfied: pyasn1~=0.6 in /usr/local/lib/python3.11/dist-packages (from sigstore->model-signing->kagglehub) (0.6.1)\n",
            "Requirement already satisfied: pydantic<3,>=2 in /usr/local/lib/python3.11/dist-packages (from sigstore->model-signing->kagglehub) (2.10.6)\n",
            "Requirement already satisfied: pyjwt>=2.1 in /usr/local/lib/python3.11/dist-packages (from sigstore->model-signing->kagglehub) (2.10.1)\n",
            "Requirement already satisfied: pyOpenSSL>=23.0.0 in /usr/local/lib/python3.11/dist-packages (from sigstore->model-signing->kagglehub) (24.2.1)\n",
            "Requirement already satisfied: rich~=13.0 in /usr/local/lib/python3.11/dist-packages (from sigstore->model-signing->kagglehub) (13.9.4)\n",
            "Requirement already satisfied: rfc8785~=0.1.2 in /usr/local/lib/python3.11/dist-packages (from sigstore->model-signing->kagglehub) (0.1.4)\n",
            "Requirement already satisfied: rfc3161-client~=0.1.2 in /usr/local/lib/python3.11/dist-packages (from sigstore->model-signing->kagglehub) (0.1.2)\n",
            "Requirement already satisfied: sigstore-protobuf-specs==0.3.2 in /usr/local/lib/python3.11/dist-packages (from sigstore->model-signing->kagglehub) (0.3.2)\n",
            "Requirement already satisfied: sigstore-rekor-types==0.0.18 in /usr/local/lib/python3.11/dist-packages (from sigstore->model-signing->kagglehub) (0.0.18)\n",
            "Requirement already satisfied: tuf~=5.0 in /usr/local/lib/python3.11/dist-packages (from sigstore->model-signing->kagglehub) (5.1.0)\n",
            "Requirement already satisfied: platformdirs~=4.2 in /usr/local/lib/python3.11/dist-packages (from sigstore->model-signing->kagglehub) (4.3.6)\n",
            "Requirement already satisfied: betterproto==2.0.0b6 in /usr/local/lib/python3.11/dist-packages (from sigstore-protobuf-specs==0.3.2->sigstore->model-signing->kagglehub) (2.0.0b6)\n",
            "Requirement already satisfied: grpclib<0.5.0,>=0.4.1 in /usr/local/lib/python3.11/dist-packages (from betterproto==2.0.0b6->sigstore-protobuf-specs==0.3.2->sigstore->model-signing->kagglehub) (0.4.7)\n",
            "Requirement already satisfied: pycparser in /usr/local/lib/python3.11/dist-packages (from cffi>=1.12->cryptography->model-signing->kagglehub) (2.22)\n",
            "Requirement already satisfied: annotated-types>=0.6.0 in /usr/local/lib/python3.11/dist-packages (from pydantic<3,>=2->sigstore->model-signing->kagglehub) (0.7.0)\n",
            "Requirement already satisfied: pydantic-core==2.27.2 in /usr/local/lib/python3.11/dist-packages (from pydantic<3,>=2->sigstore->model-signing->kagglehub) (2.27.2)\n",
            "Requirement already satisfied: markdown-it-py>=2.2.0 in /usr/local/lib/python3.11/dist-packages (from rich~=13.0->sigstore->model-signing->kagglehub) (3.0.0)\n",
            "Requirement already satisfied: pygments<3.0.0,>=2.13.0 in /usr/local/lib/python3.11/dist-packages (from rich~=13.0->sigstore->model-signing->kagglehub) (2.18.0)\n",
            "Requirement already satisfied: securesystemslib~=1.0 in /usr/local/lib/python3.11/dist-packages (from tuf~=5.0->sigstore->model-signing->kagglehub) (1.2.0)\n",
            "Requirement already satisfied: mdurl~=0.1 in /usr/local/lib/python3.11/dist-packages (from markdown-it-py>=2.2.0->rich~=13.0->sigstore->model-signing->kagglehub) (0.1.2)\n",
            "Requirement already satisfied: email-validator>=2.0.0 in /usr/local/lib/python3.11/dist-packages (from pydantic[email]<3,>=2->sigstore-rekor-types==0.0.18->sigstore->model-signing->kagglehub) (2.2.0)\n",
            "Requirement already satisfied: dnspython>=2.0.0 in /usr/local/lib/python3.11/dist-packages (from email-validator>=2.0.0->pydantic[email]<3,>=2->sigstore-rekor-types==0.0.18->sigstore->model-signing->kagglehub) (2.7.0)\n",
            "Requirement already satisfied: h2<5,>=3.1.0 in /usr/local/lib/python3.11/dist-packages (from grpclib<0.5.0,>=0.4.1->betterproto==2.0.0b6->sigstore-protobuf-specs==0.3.2->sigstore->model-signing->kagglehub) (4.2.0)\n",
            "Requirement already satisfied: multidict in /usr/local/lib/python3.11/dist-packages (from grpclib<0.5.0,>=0.4.1->betterproto==2.0.0b6->sigstore-protobuf-specs==0.3.2->sigstore->model-signing->kagglehub) (6.1.0)\n",
            "Requirement already satisfied: hyperframe<7,>=6.1 in /usr/local/lib/python3.11/dist-packages (from h2<5,>=3.1.0->grpclib<0.5.0,>=0.4.1->betterproto==2.0.0b6->sigstore-protobuf-specs==0.3.2->sigstore->model-signing->kagglehub) (6.1.0)\n",
            "Requirement already satisfied: hpack<5,>=4.1 in /usr/local/lib/python3.11/dist-packages (from h2<5,>=3.1.0->grpclib<0.5.0,>=0.4.1->betterproto==2.0.0b6->sigstore-protobuf-specs==0.3.2->sigstore->model-signing->kagglehub) (4.1.0)\n",
            "Downloading catboost-1.2.7-cp311-cp311-manylinux2014_x86_64.whl (98.7 MB)\n",
            "\u001b[2K   \u001b[90m━━━━━━━━━━━━━━━━━━━━━━━━━━━━━━━━━━━━━━━━\u001b[0m \u001b[32m98.7/98.7 MB\u001b[0m \u001b[31m7.3 MB/s\u001b[0m eta \u001b[36m0:00:00\u001b[0m\n",
            "\u001b[?25hInstalling collected packages: catboost\n",
            "Successfully installed catboost-1.2.7\n"
          ]
        }
      ]
    },
    {
      "cell_type": "markdown",
      "metadata": {
        "id": "npcYCLlCXLHw"
      },
      "source": [
        "# Fraud Detection using CatBoost"
      ]
    },
    {
      "cell_type": "code",
      "execution_count": 4,
      "metadata": {
        "id": "2y7AH-5NXLHy"
      },
      "outputs": [],
      "source": [
        "import random\n",
        "from pathlib import Path\n",
        "\n",
        "import polars as pl\n",
        "import numpy as np\n",
        "import matplotlib.pyplot as plt\n",
        "import seaborn as sns\n",
        "import kagglehub\n",
        "\n",
        "from imblearn.over_sampling import SMOTE\n",
        "from sklearn.model_selection import train_test_split\n",
        "from sklearn.preprocessing import LabelEncoder\n",
        "from catboost import CatBoostClassifier\n",
        "\n",
        "SEED = 42\n",
        "\n",
        "random.seed(SEED)\n",
        "np.random.seed(SEED)\n",
        "\n",
        "sns.set_theme(style=\"whitegrid\", palette=\"pastel\")"
      ]
    },
    {
      "cell_type": "markdown",
      "metadata": {
        "id": "6n27YtJ2XLH0"
      },
      "source": [
        "## Load"
      ]
    },
    {
      "cell_type": "code",
      "execution_count": 5,
      "metadata": {
        "colab": {
          "base_uri": "https://localhost:8080/"
        },
        "id": "2boMZXyFXLH0",
        "outputId": "9df99f82-c19d-408d-92b3-a7ffabb629fa"
      },
      "outputs": [
        {
          "output_type": "stream",
          "name": "stdout",
          "text": [
            "Warning: Looks like you're using an outdated `kagglehub` version (installed: 0.3.7), please consider upgrading to the latest version (0.3.8).\n",
            "Downloading from https://www.kaggle.com/api/v1/datasets/download/jainilcoder/online-payment-fraud-detection?dataset_version_number=1...\n"
          ]
        },
        {
          "output_type": "stream",
          "name": "stderr",
          "text": [
            "100%|██████████| 178M/178M [00:01<00:00, 113MB/s]"
          ]
        },
        {
          "output_type": "stream",
          "name": "stdout",
          "text": [
            "Extracting files...\n"
          ]
        },
        {
          "output_type": "stream",
          "name": "stderr",
          "text": [
            "\n"
          ]
        },
        {
          "output_type": "stream",
          "name": "stdout",
          "text": [
            "(6362620, 11)\n",
            "['step', 'type', 'amount', 'nameOrig', 'oldbalanceOrg', 'newbalanceOrig', 'nameDest', 'oldbalanceDest', 'newbalanceDest', 'isFraud', 'isFlaggedFraud']\n",
            "[Int64, String, Float64, String, Float64, Float64, String, Float64, Float64, Int64, Int64]\n"
          ]
        }
      ],
      "source": [
        "path = Path(kagglehub.dataset_download(\"jainilcoder/online-payment-fraud-detection\"))\n",
        "df = pl.read_csv(path / \"onlinefraud.csv\")\n",
        "print(df.shape)\n",
        "print(df.columns)\n",
        "print(df.dtypes)"
      ]
    },
    {
      "cell_type": "code",
      "execution_count": 6,
      "metadata": {
        "colab": {
          "base_uri": "https://localhost:8080/"
        },
        "id": "UAUtUP4OXLH1",
        "outputId": "63cb3a28-d3ac-44b9-dbde-68b5e04278dc"
      },
      "outputs": [
        {
          "output_type": "stream",
          "name": "stdout",
          "text": [
            "['step', 'type', 'amount', 'nameOrig', 'oldbalanceOrig', 'newbalanceOrig', 'nameDest', 'oldbalanceDest', 'newbalanceDest', 'isFraud', 'isFlaggedFraud']\n"
          ]
        }
      ],
      "source": [
        "# Rename column due to typo I guess\n",
        "df = df.rename({\"oldbalanceOrg\": \"oldbalanceOrig\"})\n",
        "print(df.columns)"
      ]
    },
    {
      "cell_type": "code",
      "execution_count": 7,
      "metadata": {
        "colab": {
          "base_uri": "https://localhost:8080/",
          "height": 255
        },
        "id": "znscxjCgXLH1",
        "outputId": "576a2494-3672-406a-b494-89d268abe7de"
      },
      "outputs": [
        {
          "output_type": "execute_result",
          "data": {
            "text/plain": [
              "shape: (5, 11)\n",
              "┌──────┬──────────┬──────────┬─────────────┬───┬─────────────┬─────────────┬─────────┬─────────────┐\n",
              "│ step ┆ type     ┆ amount   ┆ nameOrig    ┆ … ┆ oldbalanceD ┆ newbalanceD ┆ isFraud ┆ isFlaggedFr │\n",
              "│ ---  ┆ ---      ┆ ---      ┆ ---         ┆   ┆ est         ┆ est         ┆ ---     ┆ aud         │\n",
              "│ i64  ┆ str      ┆ f64      ┆ str         ┆   ┆ ---         ┆ ---         ┆ i64     ┆ ---         │\n",
              "│      ┆          ┆          ┆             ┆   ┆ f64         ┆ f64         ┆         ┆ i64         │\n",
              "╞══════╪══════════╪══════════╪═════════════╪═══╪═════════════╪═════════════╪═════════╪═════════════╡\n",
              "│ 1    ┆ PAYMENT  ┆ 9839.64  ┆ C1231006815 ┆ … ┆ 0.0         ┆ 0.0         ┆ 0       ┆ 0           │\n",
              "│ 1    ┆ PAYMENT  ┆ 1864.28  ┆ C1666544295 ┆ … ┆ 0.0         ┆ 0.0         ┆ 0       ┆ 0           │\n",
              "│ 1    ┆ TRANSFER ┆ 181.0    ┆ C1305486145 ┆ … ┆ 0.0         ┆ 0.0         ┆ 1       ┆ 0           │\n",
              "│ 1    ┆ CASH_OUT ┆ 181.0    ┆ C840083671  ┆ … ┆ 21182.0     ┆ 0.0         ┆ 1       ┆ 0           │\n",
              "│ 1    ┆ PAYMENT  ┆ 11668.14 ┆ C2048537720 ┆ … ┆ 0.0         ┆ 0.0         ┆ 0       ┆ 0           │\n",
              "└──────┴──────────┴──────────┴─────────────┴───┴─────────────┴─────────────┴─────────┴─────────────┘"
            ],
            "text/html": [
              "<div><style>\n",
              ".dataframe > thead > tr,\n",
              ".dataframe > tbody > tr {\n",
              "  text-align: right;\n",
              "  white-space: pre-wrap;\n",
              "}\n",
              "</style>\n",
              "<small>shape: (5, 11)</small><table border=\"1\" class=\"dataframe\"><thead><tr><th>step</th><th>type</th><th>amount</th><th>nameOrig</th><th>oldbalanceOrig</th><th>newbalanceOrig</th><th>nameDest</th><th>oldbalanceDest</th><th>newbalanceDest</th><th>isFraud</th><th>isFlaggedFraud</th></tr><tr><td>i64</td><td>str</td><td>f64</td><td>str</td><td>f64</td><td>f64</td><td>str</td><td>f64</td><td>f64</td><td>i64</td><td>i64</td></tr></thead><tbody><tr><td>1</td><td>&quot;PAYMENT&quot;</td><td>9839.64</td><td>&quot;C1231006815&quot;</td><td>170136.0</td><td>160296.36</td><td>&quot;M1979787155&quot;</td><td>0.0</td><td>0.0</td><td>0</td><td>0</td></tr><tr><td>1</td><td>&quot;PAYMENT&quot;</td><td>1864.28</td><td>&quot;C1666544295&quot;</td><td>21249.0</td><td>19384.72</td><td>&quot;M2044282225&quot;</td><td>0.0</td><td>0.0</td><td>0</td><td>0</td></tr><tr><td>1</td><td>&quot;TRANSFER&quot;</td><td>181.0</td><td>&quot;C1305486145&quot;</td><td>181.0</td><td>0.0</td><td>&quot;C553264065&quot;</td><td>0.0</td><td>0.0</td><td>1</td><td>0</td></tr><tr><td>1</td><td>&quot;CASH_OUT&quot;</td><td>181.0</td><td>&quot;C840083671&quot;</td><td>181.0</td><td>0.0</td><td>&quot;C38997010&quot;</td><td>21182.0</td><td>0.0</td><td>1</td><td>0</td></tr><tr><td>1</td><td>&quot;PAYMENT&quot;</td><td>11668.14</td><td>&quot;C2048537720&quot;</td><td>41554.0</td><td>29885.86</td><td>&quot;M1230701703&quot;</td><td>0.0</td><td>0.0</td><td>0</td><td>0</td></tr></tbody></table></div>"
            ]
          },
          "metadata": {},
          "execution_count": 7
        }
      ],
      "source": [
        "df.head()"
      ]
    },
    {
      "cell_type": "markdown",
      "metadata": {
        "id": "UK5L_qgIXLH2"
      },
      "source": [
        "## EDA"
      ]
    },
    {
      "cell_type": "code",
      "execution_count": 8,
      "metadata": {
        "colab": {
          "base_uri": "https://localhost:8080/",
          "height": 604
        },
        "id": "fY59WiPNXLH2",
        "outputId": "4606c534-385f-4736-e7eb-71b8c3e4768f"
      },
      "outputs": [
        {
          "output_type": "display_data",
          "data": {
            "text/plain": [
              "<Figure size 1200x600 with 1 Axes>"
            ],
            "image/png": "[encoded data removed]"
          },
          "metadata": {}
        }
      ],
      "source": [
        "type_counts = df.group_by('type').agg(pl.len()).sort('len', descending=True)\n",
        "\n",
        "plt.figure(figsize=(12, 6))\n",
        "plt.bar(type_counts['type'].to_list(), type_counts['len'].to_list())\n",
        "plt.title('Distribution of Transaction Types')\n",
        "plt.xticks(rotation=45)\n",
        "plt.ylabel('Count')\n",
        "plt.show()"
      ]
    },
    {
      "cell_type": "markdown",
      "metadata": {
        "id": "g56-NFl2XLH3"
      },
      "source": [
        "Diffs in balance after transactions in case of frauds on supervised data"
      ]
    },
    {
      "cell_type": "code",
      "execution_count": 9,
      "metadata": {
        "colab": {
          "base_uri": "https://localhost:8080/",
          "height": 501
        },
        "id": "2w33gJqOXLH3",
        "outputId": "e78120f6-ab1f-4b4f-fdc5-bfce80b17be3"
      },
      "outputs": [
        {
          "output_type": "display_data",
          "data": {
            "text/plain": [
              "<Figure size 1500x500 with 2 Axes>"
            ],
            "image/png": "[encoded data removed]"
          },
          "metadata": {}
        }
      ],
      "source": [
        "plt.figure(figsize=(15, 5))\n",
        "\n",
        "plt.subplot(1, 2, 1)\n",
        "df = df.with_columns([\n",
        "    (pl.col('oldbalanceOrig') - pl.col('newbalanceOrig')).alias('balance_diff_org')\n",
        "])\n",
        "fraud_diff_org = df.filter(pl.col('isFraud') == 1)['balance_diff_org'].to_numpy()\n",
        "plt.hist(fraud_diff_org, bins=50)\n",
        "plt.title('Balance Difference (Origin) - Fraud Cases')\n",
        "\n",
        "plt.subplot(1, 2, 2)\n",
        "df = df.with_columns([\n",
        "    (pl.col('oldbalanceDest') - pl.col('newbalanceDest')).alias('balance_diff_dest')\n",
        "])\n",
        "fraud_diff_dest = df.filter(pl.col('isFraud') == 1)['balance_diff_dest'].to_numpy()\n",
        "plt.hist(fraud_diff_dest, bins=50)\n",
        "plt.title('Balance Difference (Destination) - Fraud Cases')\n",
        "\n",
        "plt.tight_layout()\n",
        "plt.show()"
      ]
    },
    {
      "cell_type": "markdown",
      "metadata": {
        "id": "xU6xtN3vXLH3"
      },
      "source": [
        "## Preprocess data"
      ]
    },
    {
      "cell_type": "code",
      "execution_count": 10,
      "metadata": {
        "colab": {
          "base_uri": "https://localhost:8080/"
        },
        "id": "-VDmbGEGXLH4",
        "outputId": "23405c60-74bf-40ab-bb89-afa3a5dc0306"
      },
      "outputs": [
        {
          "output_type": "stream",
          "name": "stdout",
          "text": [
            "Original training set shape: [5083503    6593]\n",
            "Balanced training set shape: [5083503 5083503]\n"
          ]
        }
      ],
      "source": [
        "le = LabelEncoder()\n",
        "df = df.with_columns([\n",
        "    pl.Series(name='type_encoded', values=le.fit_transform(df['type'].to_numpy()))\n",
        "])\n",
        "\n",
        "features = ['type_encoded', 'amount', 'oldbalanceOrig', 'newbalanceOrig',\n",
        "           'oldbalanceDest', 'newbalanceDest']\n",
        "X = df[features].to_numpy()\n",
        "y = df['isFraud'].to_numpy()\n",
        "\n",
        "X_train, X_test, y_train, y_test = train_test_split(X, y, test_size=0.2, random_state=42)\n",
        "\n",
        "smote = SMOTE(random_state=SEED)\n",
        "X_train_balanced, y_train_balanced = smote.fit_resample(X_train, y_train)\n",
        "\n",
        "print(\"Original training set shape:\", np.bincount(y_train))\n",
        "print(\"Balanced training set shape:\", np.bincount(y_train_balanced))"
      ]
    },
    {
      "cell_type": "markdown",
      "metadata": {
        "id": "oRWf1s6zXLH4"
      },
      "source": [
        "## Train CatBoost Model"
      ]
    },
    {
      "cell_type": "code",
      "execution_count": 12,
      "metadata": {
        "colab": {
          "base_uri": "https://localhost:8080/"
        },
        "id": "3n6YS1rwXLH4",
        "outputId": "9b7d77e8-b942-4f8b-cec9-d05e73f2889f"
      },
      "outputs": [
        {
          "output_type": "stream",
          "name": "stdout",
          "text": [
            "Learning rate set to 0.5\n",
            "0:\tlearn: 0.1340892\ttotal: 2.23s\tremaining: 18m 31s\n",
            "100:\tlearn: 0.0098529\ttotal: 4m 2s\tremaining: 15m 59s\n",
            "200:\tlearn: 0.0080499\ttotal: 7m 33s\tremaining: 11m 13s\n",
            "300:\tlearn: 0.0077361\ttotal: 10m 39s\tremaining: 7m 2s\n",
            "400:\tlearn: 0.0077361\ttotal: 13m 42s\tremaining: 3m 23s\n",
            "499:\tlearn: 0.0067563\ttotal: 16m 53s\tremaining: 0us\n"
          ]
        },
        {
          "output_type": "execute_result",
          "data": {
            "text/plain": [
              "<catboost.core.CatBoostClassifier at 0x7f7e9a79f610>"
            ]
          },
          "metadata": {},
          "execution_count": 12
        }
      ],
      "source": [
        "model = CatBoostClassifier(\n",
        "    iterations=500,\n",
        "    random_seed=SEED,\n",
        "    verbose=100\n",
        ")\n",
        "\n",
        "model.fit(X_train_balanced, y_train_balanced)"
      ]
    },
    {
      "cell_type": "code",
      "source": [
        "from sklearn.metrics import classification_report\n",
        "\n",
        "print(classification_report(y_test, model.predict(X_test)))"
      ],
      "metadata": {
        "colab": {
          "base_uri": "https://localhost:8080/"
        },
        "id": "NpcniEeKYXQt",
        "outputId": "025fe888-e37a-4c90-c9ab-86c29ff52e9f"
      },
      "execution_count": 13,
      "outputs": [
        {
          "output_type": "stream",
          "name": "stdout",
          "text": [
            "              precision    recall  f1-score   support\n",
            "\n",
            "           0       1.00      1.00      1.00   1270904\n",
            "           1       0.34      1.00      0.50      1620\n",
            "\n",
            "    accuracy                           1.00   1272524\n",
            "   macro avg       0.67      1.00      0.75   1272524\n",
            "weighted avg       1.00      1.00      1.00   1272524\n",
            "\n"
          ]
        }
      ]
    },
    {
      "cell_type": "markdown",
      "metadata": {
        "id": "ty5iXijhXLH5"
      },
      "source": [
        "## Save the Model"
      ]
    },
    {
      "cell_type": "code",
      "execution_count": 14,
      "metadata": {
        "id": "SMEFiKkHXLH5"
      },
      "outputs": [],
      "source": [
        "import pickle\n",
        "\n",
        "path_to_artifact = Path('../artifacts/00_boosting/')\n",
        "\n",
        "model.save_model(path_to_artifact / 'fraud_detection_model.cbm')\n",
        "\n",
        "with open(path_to_artifact / 'metadata.pkl', 'wb') as f:\n",
        "    pickle.dump({\n",
        "        'features': features,\n",
        "        'label_encoder': le\n",
        "    }, f)"
      ]
    }
  ],
  "metadata": {
    "kernelspec": {
      "display_name": "Python 3",
      "language": "python",
      "name": "python3"
    },
    "language_info": {
      "codemirror_mode": {
        "name": "ipython",
        "version": 3
      },
      "file_extension": ".py",
      "mimetype": "text/x-python",
      "name": "python",
      "nbconvert_exporter": "python",
      "pygments_lexer": "ipython3",
      "version": "3.12.6"
    },
    "colab": {
      "provenance": []
    }
  },
  "nbformat": 4,
  "nbformat_minor": 0
}
